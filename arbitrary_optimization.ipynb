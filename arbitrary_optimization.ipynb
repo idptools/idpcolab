{
  "nbformat": 4,
  "nbformat_minor": 0,
  "metadata": {
    "colab": {
      "provenance": [],
      "collapsed_sections": [
        "nOAS_9WQDKGt"
      ],
      "toc_visible": true,
      "authorship_tag": "ABX9TyO9UrIaPXdt0NHZn3Jy0jpx",
      "include_colab_link": true
    },
    "kernelspec": {
      "name": "python3",
      "display_name": "Python 3"
    },
    "language_info": {
      "name": "python"
    }
  },
  "cells": [
    {
      "cell_type": "markdown",
      "metadata": {
        "id": "view-in-github",
        "colab_type": "text"
      },
      "source": [
        "<a href=\"https://colab.research.google.com/github/idptools/idpcolab/blob/main/arbitrary_optimization.ipynb\" target=\"_parent\"><img src=\"https://colab.research.google.com/assets/colab-badge.svg\" alt=\"Open In Colab\"/></a>"
      ]
    },
    {
      "cell_type": "markdown",
      "source": [
        "# Software Installations"
      ],
      "metadata": {
        "id": "nOAS_9WQDKGt"
      }
    },
    {
      "cell_type": "code",
      "source": [
        "!pip install git+https://github.com/idptools/goose@arbitrary_optimization"
      ],
      "metadata": {
        "colab": {
          "base_uri": "https://localhost:8080/",
          "height": 1000
        },
        "id": "8vI5yxE6J_x_",
        "outputId": "e364a8eb-700c-4830-8bc7-272ad30bef76"
      },
      "execution_count": 11,
      "outputs": [
        {
          "output_type": "stream",
          "name": "stdout",
          "text": [
            "Collecting git+https://github.com/idptools/goose@arbitrary_optimization\n",
            "  Cloning https://github.com/idptools/goose (to revision arbitrary_optimization) to /tmp/pip-req-build-jjx42i9z\n",
            "  Running command git clone --filter=blob:none --quiet https://github.com/idptools/goose /tmp/pip-req-build-jjx42i9z\n",
            "  Running command git checkout -b arbitrary_optimization --track origin/arbitrary_optimization\n",
            "  Switched to a new branch 'arbitrary_optimization'\n",
            "  Branch 'arbitrary_optimization' set up to track remote branch 'arbitrary_optimization' from 'origin'.\n",
            "  Resolved https://github.com/idptools/goose to commit f13a3448486cb6b34c7ab88cab3e16fc4caca301\n",
            "  Preparing metadata (setup.py) ... \u001b[?25l\u001b[?25hdone\n",
            "Collecting sparrow@ git+https://git@github.com/idptools/sparrow.git (from goose==0.1.1+54.gf13a344)\n",
            "  Cloning https://****@github.com/idptools/sparrow.git to /tmp/pip-install-mcdiet34/sparrow_f6ebc4b8a41248b68ad30be98940d902\n",
            "  Running command git clone --filter=blob:none --quiet 'https://****@github.com/idptools/sparrow.git' /tmp/pip-install-mcdiet34/sparrow_f6ebc4b8a41248b68ad30be98940d902\n",
            "  Resolved https://****@github.com/idptools/sparrow.git to commit b8ba08dddd31f7aaf499126f02d80842d1d2c403\n",
            "  Preparing metadata (setup.py) ... \u001b[?25l\u001b[?25hdone\n",
            "Requirement already satisfied: cython in /usr/local/lib/python3.10/dist-packages (from goose==0.1.1+54.gf13a344) (3.0.10)\n",
            "Requirement already satisfied: numpy in /usr/local/lib/python3.10/dist-packages (from goose==0.1.1+54.gf13a344) (1.24.3)\n",
            "Requirement already satisfied: metapredict>=2.6.2 in /usr/local/lib/python3.10/dist-packages (from goose==0.1.1+54.gf13a344) (2.63)\n",
            "Requirement already satisfied: PredictDSSP in /usr/local/lib/python3.10/dist-packages (from goose==0.1.1+54.gf13a344) (1.2.1)\n",
            "Requirement already satisfied: torch in /usr/local/lib/python3.10/dist-packages (from goose==0.1.1+54.gf13a344) (2.3.1+cu121)\n",
            "Requirement already satisfied: matplotlib in /usr/local/lib/python3.10/dist-packages (from metapredict>=2.6.2->goose==0.1.1+54.gf13a344) (3.7.1)\n",
            "Requirement already satisfied: protfasta in /usr/local/lib/python3.10/dist-packages (from metapredict>=2.6.2->goose==0.1.1+54.gf13a344) (0.1.13)\n",
            "Requirement already satisfied: scipy in /usr/local/lib/python3.10/dist-packages (from metapredict>=2.6.2->goose==0.1.1+54.gf13a344) (1.11.4)\n",
            "Requirement already satisfied: urllib3 in /usr/local/lib/python3.10/dist-packages (from metapredict>=2.6.2->goose==0.1.1+54.gf13a344) (2.0.7)\n",
            "Requirement already satisfied: tqdm in /usr/local/lib/python3.10/dist-packages (from metapredict>=2.6.2->goose==0.1.1+54.gf13a344) (4.66.4)\n",
            "Requirement already satisfied: alphaPredict==1.0 in /usr/local/lib/python3.10/dist-packages (from metapredict>=2.6.2->goose==0.1.1+54.gf13a344) (1.0)\n",
            "Requirement already satisfied: getSequence>=1.6 in /usr/local/lib/python3.10/dist-packages (from metapredict>=2.6.2->goose==0.1.1+54.gf13a344) (2.0)\n",
            "Requirement already satisfied: requests in /usr/local/lib/python3.10/dist-packages (from PredictDSSP->goose==0.1.1+54.gf13a344) (2.31.0)\n",
            "Requirement already satisfied: ipython in /usr/local/lib/python3.10/dist-packages (from sparrow@ git+https://git@github.com/idptools/sparrow.git->goose==0.1.1+54.gf13a344) (7.34.0)\n",
            "Requirement already satisfied: idptools-parrot in /usr/local/lib/python3.10/dist-packages (from sparrow@ git+https://git@github.com/idptools/sparrow.git->goose==0.1.1+54.gf13a344) (1.7.5)\n",
            "Requirement already satisfied: afrc in /usr/local/lib/python3.10/dist-packages (from sparrow@ git+https://git@github.com/idptools/sparrow.git->goose==0.1.1+54.gf13a344) (0.3.4)\n",
            "Requirement already satisfied: filelock in /usr/local/lib/python3.10/dist-packages (from torch->goose==0.1.1+54.gf13a344) (3.15.4)\n",
            "Requirement already satisfied: typing-extensions>=4.8.0 in /usr/local/lib/python3.10/dist-packages (from torch->goose==0.1.1+54.gf13a344) (4.12.2)\n",
            "Requirement already satisfied: sympy in /usr/local/lib/python3.10/dist-packages (from torch->goose==0.1.1+54.gf13a344) (1.13.0)\n",
            "Requirement already satisfied: networkx in /usr/local/lib/python3.10/dist-packages (from torch->goose==0.1.1+54.gf13a344) (3.3)\n",
            "Requirement already satisfied: jinja2 in /usr/local/lib/python3.10/dist-packages (from torch->goose==0.1.1+54.gf13a344) (3.1.4)\n",
            "Requirement already satisfied: fsspec in /usr/local/lib/python3.10/dist-packages (from torch->goose==0.1.1+54.gf13a344) (2023.6.0)\n",
            "Requirement already satisfied: nvidia-cuda-nvrtc-cu12==12.1.105 in /usr/local/lib/python3.10/dist-packages (from torch->goose==0.1.1+54.gf13a344) (12.1.105)\n",
            "Requirement already satisfied: nvidia-cuda-runtime-cu12==12.1.105 in /usr/local/lib/python3.10/dist-packages (from torch->goose==0.1.1+54.gf13a344) (12.1.105)\n",
            "Requirement already satisfied: nvidia-cuda-cupti-cu12==12.1.105 in /usr/local/lib/python3.10/dist-packages (from torch->goose==0.1.1+54.gf13a344) (12.1.105)\n",
            "Requirement already satisfied: nvidia-cudnn-cu12==8.9.2.26 in /usr/local/lib/python3.10/dist-packages (from torch->goose==0.1.1+54.gf13a344) (8.9.2.26)\n",
            "Requirement already satisfied: nvidia-cublas-cu12==12.1.3.1 in /usr/local/lib/python3.10/dist-packages (from torch->goose==0.1.1+54.gf13a344) (12.1.3.1)\n",
            "Requirement already satisfied: nvidia-cufft-cu12==11.0.2.54 in /usr/local/lib/python3.10/dist-packages (from torch->goose==0.1.1+54.gf13a344) (11.0.2.54)\n",
            "Requirement already satisfied: nvidia-curand-cu12==10.3.2.106 in /usr/local/lib/python3.10/dist-packages (from torch->goose==0.1.1+54.gf13a344) (10.3.2.106)\n",
            "Requirement already satisfied: nvidia-cusolver-cu12==11.4.5.107 in /usr/local/lib/python3.10/dist-packages (from torch->goose==0.1.1+54.gf13a344) (11.4.5.107)\n",
            "Requirement already satisfied: nvidia-cusparse-cu12==12.1.0.106 in /usr/local/lib/python3.10/dist-packages (from torch->goose==0.1.1+54.gf13a344) (12.1.0.106)\n",
            "Requirement already satisfied: nvidia-nccl-cu12==2.20.5 in /usr/local/lib/python3.10/dist-packages (from torch->goose==0.1.1+54.gf13a344) (2.20.5)\n",
            "Requirement already satisfied: nvidia-nvtx-cu12==12.1.105 in /usr/local/lib/python3.10/dist-packages (from torch->goose==0.1.1+54.gf13a344) (12.1.105)\n",
            "Requirement already satisfied: triton==2.3.1 in /usr/local/lib/python3.10/dist-packages (from torch->goose==0.1.1+54.gf13a344) (2.3.1)\n",
            "Requirement already satisfied: nvidia-nvjitlink-cu12 in /usr/local/lib/python3.10/dist-packages (from nvidia-cusolver-cu12==11.4.5.107->torch->goose==0.1.1+54.gf13a344) (12.5.82)\n",
            "Collecting argparse (from idptools-parrot->sparrow@ git+https://git@github.com/idptools/sparrow.git->goose==0.1.1+54.gf13a344)\n",
            "  Using cached argparse-1.4.0-py2.py3-none-any.whl (23 kB)\n",
            "Requirement already satisfied: more-itertools in /usr/local/lib/python3.10/dist-packages (from idptools-parrot->sparrow@ git+https://git@github.com/idptools/sparrow.git->goose==0.1.1+54.gf13a344) (10.1.0)\n",
            "Requirement already satisfied: scikit-learn in /usr/local/lib/python3.10/dist-packages (from idptools-parrot->sparrow@ git+https://git@github.com/idptools/sparrow.git->goose==0.1.1+54.gf13a344) (1.2.2)\n",
            "Requirement already satisfied: seaborn in /usr/local/lib/python3.10/dist-packages (from idptools-parrot->sparrow@ git+https://git@github.com/idptools/sparrow.git->goose==0.1.1+54.gf13a344) (0.13.1)\n",
            "Requirement already satisfied: pandas in /usr/local/lib/python3.10/dist-packages (from idptools-parrot->sparrow@ git+https://git@github.com/idptools/sparrow.git->goose==0.1.1+54.gf13a344) (2.0.3)\n",
            "Requirement already satisfied: setuptools>=18.5 in /usr/local/lib/python3.10/dist-packages (from ipython->sparrow@ git+https://git@github.com/idptools/sparrow.git->goose==0.1.1+54.gf13a344) (67.7.2)\n",
            "Requirement already satisfied: jedi>=0.16 in /usr/local/lib/python3.10/dist-packages (from ipython->sparrow@ git+https://git@github.com/idptools/sparrow.git->goose==0.1.1+54.gf13a344) (0.19.1)\n",
            "Requirement already satisfied: decorator in /usr/local/lib/python3.10/dist-packages (from ipython->sparrow@ git+https://git@github.com/idptools/sparrow.git->goose==0.1.1+54.gf13a344) (4.4.2)\n",
            "Requirement already satisfied: pickleshare in /usr/local/lib/python3.10/dist-packages (from ipython->sparrow@ git+https://git@github.com/idptools/sparrow.git->goose==0.1.1+54.gf13a344) (0.7.5)\n",
            "Requirement already satisfied: traitlets>=4.2 in /usr/local/lib/python3.10/dist-packages (from ipython->sparrow@ git+https://git@github.com/idptools/sparrow.git->goose==0.1.1+54.gf13a344) (5.7.1)\n",
            "Requirement already satisfied: prompt-toolkit!=3.0.0,!=3.0.1,<3.1.0,>=2.0.0 in /usr/local/lib/python3.10/dist-packages (from ipython->sparrow@ git+https://git@github.com/idptools/sparrow.git->goose==0.1.1+54.gf13a344) (3.0.47)\n",
            "Requirement already satisfied: pygments in /usr/local/lib/python3.10/dist-packages (from ipython->sparrow@ git+https://git@github.com/idptools/sparrow.git->goose==0.1.1+54.gf13a344) (2.16.1)\n",
            "Requirement already satisfied: backcall in /usr/local/lib/python3.10/dist-packages (from ipython->sparrow@ git+https://git@github.com/idptools/sparrow.git->goose==0.1.1+54.gf13a344) (0.2.0)\n",
            "Requirement already satisfied: matplotlib-inline in /usr/local/lib/python3.10/dist-packages (from ipython->sparrow@ git+https://git@github.com/idptools/sparrow.git->goose==0.1.1+54.gf13a344) (0.1.7)\n",
            "Requirement already satisfied: pexpect>4.3 in /usr/local/lib/python3.10/dist-packages (from ipython->sparrow@ git+https://git@github.com/idptools/sparrow.git->goose==0.1.1+54.gf13a344) (4.9.0)\n",
            "Requirement already satisfied: MarkupSafe>=2.0 in /usr/local/lib/python3.10/dist-packages (from jinja2->torch->goose==0.1.1+54.gf13a344) (2.1.5)\n",
            "Requirement already satisfied: contourpy>=1.0.1 in /usr/local/lib/python3.10/dist-packages (from matplotlib->metapredict>=2.6.2->goose==0.1.1+54.gf13a344) (1.2.1)\n",
            "Requirement already satisfied: cycler>=0.10 in /usr/local/lib/python3.10/dist-packages (from matplotlib->metapredict>=2.6.2->goose==0.1.1+54.gf13a344) (0.12.1)\n",
            "Requirement already satisfied: fonttools>=4.22.0 in /usr/local/lib/python3.10/dist-packages (from matplotlib->metapredict>=2.6.2->goose==0.1.1+54.gf13a344) (4.53.1)\n",
            "Requirement already satisfied: kiwisolver>=1.0.1 in /usr/local/lib/python3.10/dist-packages (from matplotlib->metapredict>=2.6.2->goose==0.1.1+54.gf13a344) (1.4.5)\n",
            "Requirement already satisfied: packaging>=20.0 in /usr/local/lib/python3.10/dist-packages (from matplotlib->metapredict>=2.6.2->goose==0.1.1+54.gf13a344) (24.1)\n",
            "Requirement already satisfied: pillow>=6.2.0 in /usr/local/lib/python3.10/dist-packages (from matplotlib->metapredict>=2.6.2->goose==0.1.1+54.gf13a344) (9.4.0)\n",
            "Requirement already satisfied: pyparsing>=2.3.1 in /usr/local/lib/python3.10/dist-packages (from matplotlib->metapredict>=2.6.2->goose==0.1.1+54.gf13a344) (3.1.2)\n",
            "Requirement already satisfied: python-dateutil>=2.7 in /usr/local/lib/python3.10/dist-packages (from matplotlib->metapredict>=2.6.2->goose==0.1.1+54.gf13a344) (2.8.2)\n",
            "Requirement already satisfied: charset-normalizer<4,>=2 in /usr/local/lib/python3.10/dist-packages (from requests->PredictDSSP->goose==0.1.1+54.gf13a344) (3.3.2)\n",
            "Requirement already satisfied: idna<4,>=2.5 in /usr/local/lib/python3.10/dist-packages (from requests->PredictDSSP->goose==0.1.1+54.gf13a344) (3.7)\n",
            "Requirement already satisfied: certifi>=2017.4.17 in /usr/local/lib/python3.10/dist-packages (from requests->PredictDSSP->goose==0.1.1+54.gf13a344) (2024.7.4)\n",
            "Requirement already satisfied: mpmath<1.4,>=1.1.0 in /usr/local/lib/python3.10/dist-packages (from sympy->torch->goose==0.1.1+54.gf13a344) (1.3.0)\n",
            "Requirement already satisfied: parso<0.9.0,>=0.8.3 in /usr/local/lib/python3.10/dist-packages (from jedi>=0.16->ipython->sparrow@ git+https://git@github.com/idptools/sparrow.git->goose==0.1.1+54.gf13a344) (0.8.4)\n",
            "Requirement already satisfied: ptyprocess>=0.5 in /usr/local/lib/python3.10/dist-packages (from pexpect>4.3->ipython->sparrow@ git+https://git@github.com/idptools/sparrow.git->goose==0.1.1+54.gf13a344) (0.7.0)\n",
            "Requirement already satisfied: wcwidth in /usr/local/lib/python3.10/dist-packages (from prompt-toolkit!=3.0.0,!=3.0.1,<3.1.0,>=2.0.0->ipython->sparrow@ git+https://git@github.com/idptools/sparrow.git->goose==0.1.1+54.gf13a344) (0.2.13)\n",
            "Requirement already satisfied: six>=1.5 in /usr/local/lib/python3.10/dist-packages (from python-dateutil>=2.7->matplotlib->metapredict>=2.6.2->goose==0.1.1+54.gf13a344) (1.16.0)\n",
            "Requirement already satisfied: pytz>=2020.1 in /usr/local/lib/python3.10/dist-packages (from pandas->idptools-parrot->sparrow@ git+https://git@github.com/idptools/sparrow.git->goose==0.1.1+54.gf13a344) (2023.4)\n",
            "Requirement already satisfied: tzdata>=2022.1 in /usr/local/lib/python3.10/dist-packages (from pandas->idptools-parrot->sparrow@ git+https://git@github.com/idptools/sparrow.git->goose==0.1.1+54.gf13a344) (2024.1)\n",
            "Requirement already satisfied: joblib>=1.1.1 in /usr/local/lib/python3.10/dist-packages (from scikit-learn->idptools-parrot->sparrow@ git+https://git@github.com/idptools/sparrow.git->goose==0.1.1+54.gf13a344) (1.4.2)\n",
            "Requirement already satisfied: threadpoolctl>=2.0.0 in /usr/local/lib/python3.10/dist-packages (from scikit-learn->idptools-parrot->sparrow@ git+https://git@github.com/idptools/sparrow.git->goose==0.1.1+54.gf13a344) (3.5.0)\n",
            "Building wheels for collected packages: goose\n",
            "  Building wheel for goose (setup.py) ... \u001b[?25l\u001b[?25hdone\n",
            "  Created wheel for goose: filename=goose-0.1.1+54.gf13a344-py3-none-any.whl size=2241446 sha256=898e479116a61c47ccc4f520260482e4e4fa1f02b2ee186fc66fc7f38aef912e\n",
            "  Stored in directory: /tmp/pip-ephem-wheel-cache-d5e28tzl/wheels/7c/44/b5/1ce7050a20d4bf4133c65e9b9c57cc36cdc5a610fd7401673c\n",
            "Successfully built goose\n",
            "Installing collected packages: argparse, goose\n",
            "  Attempting uninstall: goose\n",
            "    Found existing installation: goose 0.1.1+53.g44ef507\n",
            "    Uninstalling goose-0.1.1+53.g44ef507:\n",
            "      Successfully uninstalled goose-0.1.1+53.g44ef507\n",
            "Successfully installed argparse-1.4.0 goose-0.1.1+54.gf13a344\n"
          ]
        },
        {
          "output_type": "display_data",
          "data": {
            "application/vnd.colab-display-data+json": {
              "pip_warning": {
                "packages": [
                  "argparse",
                  "goose"
                ]
              },
              "id": "0524cf17783c422c82dc18957faa837a"
            }
          },
          "metadata": {}
        }
      ]
    },
    {
      "cell_type": "markdown",
      "source": [
        "# File imports"
      ],
      "metadata": {
        "id": "sZXpZ5sWKSWA"
      }
    },
    {
      "cell_type": "code",
      "source": [
        "import logging\n",
        "logging.basicConfig(\n",
        "    level=logging.INFO, # allow INFO level messages to pass through the logger\n",
        "    force=True, # Resets any previous configuration\n",
        ")\n",
        "\n",
        "from goose.properties import (\n",
        "    FCR,\n",
        "    NCPR,\n",
        "    SCD,\n",
        "    SHD,\n",
        "    Complexity,\n",
        "    ComputeIWD,\n",
        "    EndToEndDistance,\n",
        "    Hydrophobicity,\n",
        "    Kappa,\n",
        "    ProteinProperty,\n",
        "    RadiusOfGyration,\n",
        "    TargetAminoAcidFractions,\n",
        ")\n",
        "\n",
        "from goose.sequence_optimization import SequenceOptimizer"
      ],
      "metadata": {
        "colab": {
          "base_uri": "https://localhost:8080/"
        },
        "id": "Krl53Hp6KUFc",
        "outputId": "18000c99-af50-4367-eb09-15ba91ed8091"
      },
      "execution_count": 1,
      "outputs": [
        {
          "output_type": "stream",
          "name": "stderr",
          "text": [
            "INFO:numexpr.utils:NumExpr defaulting to 2 threads.\n"
          ]
        },
        {
          "output_type": "stream",
          "name": "stdout",
          "text": [
            "Error importing GPy.\n",
            " If trying to run parrot-optimize, make sure to use `pip install idptools-parrot[optimize]`\n"
          ]
        }
      ]
    },
    {
      "cell_type": "markdown",
      "source": [
        "# An Introduction to the `ProteinProperty` Base Class: defining your own custom parameters for optimization."
      ],
      "metadata": {
        "id": "PB0W9rr_KkEa"
      }
    },
    {
      "cell_type": "markdown",
      "source": [
        "The arbitrary sequence optimization interface for GOOSE fundamentally relies upon the following `ProteinProperty` base class. Let's walk through the components of the following base class so that things are explicit and clear."
      ],
      "metadata": {
        "id": "SAzmmN9sKsUW"
      }
    },
    {
      "cell_type": "markdown",
      "source": [
        "\n",
        "## Base classes\n",
        "A base class (also known as a parent class or superclass) is a class in object-oriented programming from which other classes (called derived classes, child classes, or subclasses) can inherit properties and methods.\n",
        "\n",
        "The primary purpose of a base class is to provide common attributes and behaviors that can be shared by multiple derived classes, allowing for code reuse and the creation of a hierarchical class structure.\n",
        "\n",
        "**Key Points**\n",
        "- Inheritance: Derived classes inherit attributes and methods from the base class, which helps avoid code duplication.\n",
        "- Common Functionality: The base class defines common functionality that can be used or overridden by derived classes.\n",
        "- Abstract Base Class: A special type of base class that is not meant to be instantiated directly but is designed to be subclassed. It can include abstract methods that must be implemented by derived classes.\n",
        "\n",
        "Here is our complete `ProteinProperty` base class, but we'll walk through each component of this class.\n",
        "```\n",
        "class ProteinProperty(ABC):\n",
        "    \"\"\"\n",
        "    Abstract base class for protein sequence properties to be optimized.\n",
        "    \"\"\"\n",
        "    def __init__(self, target_value: float, weight: float = 1.0):\n",
        "        assert isinstance(target_value, (int,float)), f\"target_value must be numerical. Received {type(target_value)}\"\n",
        "        assert isinstance(weight, (int,float)), f\"Weight must be numerical. Received {type(weight)}\"\n",
        "        self._target_value = target_value\n",
        "        self._weight = weight\n",
        "\n",
        "    @property\n",
        "    def target_value(self) -> float:\n",
        "        return self._target_value\n",
        "\n",
        "    @target_value.setter\n",
        "    def target_value(self, value: float):\n",
        "        assert isinstance(target_value, (int,float)), f\"target_value must be numerical. Received {type(value)}\"\n",
        "        self._target_value = value\n",
        "\n",
        "    @property\n",
        "    def weight(self) -> float:\n",
        "        return self._weight\n",
        "\n",
        "    @weight.setter\n",
        "    def weight(self, value: float):\n",
        "        assert isinstance(value, (int,float)), f\"weight must be numerical. Received {type(value)}\"\n",
        "        self._weight = value\n",
        "\n",
        "    @abstractmethod\n",
        "    def calculate(self, protein: 'sparrow.Protein') -> float:\n",
        "        \"\"\"\n",
        "        Calculate the property value for a given protein.\n",
        "\n",
        "        Parameters:\n",
        "        protein (sparrow.Protein): The protein instance.\n",
        "\n",
        "        Returns:\n",
        "        float: The calculated property value.\n",
        "        \"\"\"\n",
        "        pass\n",
        "```\n",
        "The base class defined here is a special base class known as the abstract base class, this will provide the interface for arbitrarily complex new objectives that adhere to the same underlying interface. This will serve as a useful feature for performing our optimization later\n"
      ],
      "metadata": {
        "id": "o-VTfr_KLfuw"
      }
    },
    {
      "cell_type": "markdown",
      "source": [
        "Firstly, we have the class' `init` function. This function defines the `target_value` and a `weight` both of which must be a numerical datatype.\n",
        "\n",
        "\n",
        "\n",
        "```\n",
        "class ProteinProperty(ABC):\n",
        "    \"\"\"\n",
        "    Abstract base class for protein sequence properties to be optimized.\n",
        "    \"\"\"\n",
        "    def __init__(self, target_value: float, weight: float = 1.0):\n",
        "        assert isinstance(target_value, (int,float)), f\"target_value must be numerical. Received {type(target_value)}\"\n",
        "        assert isinstance(weight, (int,float)), f\"Weight must be numerical. Received {type(weight)}\"\n",
        "        self._target_value = target_value\n",
        "        self._weight = weight\n",
        "```\n",
        "\n",
        "\n",
        "\n",
        "\n",
        "The parameters define both the 'numerical objective' that we will be optimizing towards (more on this later), and the weight - or the emphasis - which we will place on the corresponding objective."
      ],
      "metadata": {
        "id": "4jsQvntLMCPp"
      }
    },
    {
      "cell_type": "markdown",
      "source": [
        "Next, we define some Getter and Setter Methods for our base class, but what exactly are Getters and Setters?\n",
        "\n",
        "## What are Getter and Setter Methods?\n",
        "Getter and Setter Methods:\n",
        "\n",
        "- Getter methods are used to get (retrieve) the value of a private attribute.\n",
        "- Setter methods are used to set (update) the value of a private attribute.\n",
        "\n",
        "In programming, we often use getters and setters to protect the access to the data. They allow us to control how a particular attribute is accessed and modified, ensuring that any necessary validation or processing can be performed."
      ],
      "metadata": {
        "id": "cO8XC7OPMCVo"
      }
    },
    {
      "cell_type": "markdown",
      "source": [
        "Getter and Setter for `target_value`\n",
        "- Getter Method: Retrieves the value of target_value.\n",
        "- Setter Method: Sets a new value for target_value, ensuring it is a number.\n",
        "\n",
        "\n",
        "```\n",
        "@property\n",
        "def target_value(self) -> float:\n",
        "    return self._target_value\n",
        "\n",
        "@target_value.setter\n",
        "def target_value(self, value: float):\n",
        "    assert isinstance(value, (int, float)), f\"target_value must be numerical. Received {type(value)}\"\n",
        "    self._target_value = value\n",
        "\n",
        "```\n",
        "\n",
        "\n",
        "Getter and Setter for `weight`\n",
        "- Getter Method: Retrieves the value of weight.\n",
        "- Setter Method: Sets a new value for weight, ensuring it is a number.\n",
        "\n",
        "```\n",
        "@property\n",
        "def weight(self) -> float:\n",
        "    return self._weight\n",
        "\n",
        "@weight.setter\n",
        "def weight(self, value: float):\n",
        "    assert isinstance(value, (int, float)), f\"weight must be numerical. Received {type(value)}\"\n",
        "    self._weight = value\n",
        "\n",
        "```\n",
        "\n",
        "Summary\n",
        "- Getter and Setter Methods: These methods allow controlled access to the `target_value` and `weight` attributes, ensuring they are always numerical.\n",
        "- Usage: The getters retrieve the values, and the setters validate and update the values.\n",
        "\n",
        "This approach provides a way to manage and safeguard the properties of the ProteinProperty class, ensuring they remain valid throughout their use."
      ],
      "metadata": {
        "id": "_hIKKiqxNZ3I"
      }
    },
    {
      "cell_type": "markdown",
      "source": [
        "## The Calculate Method\n",
        "Lastly, we will define an abstract method for our base class. This is the arguably the most important function of the base class, as it will define how we compute the property that we're trying to optimize.\n",
        "\n",
        "Importantly, the calculate functionality requires a sparrow.Protein object as input - You can read more about SPARROW [here](https://github.com/idptools/sparrow); but one of the most useful methods of the protein object from sparrow is the sequence attribute that enables you to obtain the sequence from the object - e.g., `protein.sequence` would return the sequence of the protein object. For more information, I encourage you to reference the SPARROW codebase and (eventually) documentation.\n",
        "\n",
        "```\n",
        "    @abstractmethod\n",
        "    def calculate(self, protein: 'sparrow.Protein') -> float:\n",
        "        \"\"\"\n",
        "        Calculate the property value for a given protein.\n",
        "\n",
        "        Parameters:\n",
        "        protein (sparrow.Protein): The protein instance.\n",
        "\n",
        "        Returns:\n",
        "        float: The calculated property value.\n",
        "        \"\"\"\n",
        "        pass\n",
        "\n",
        "```\n",
        "\n"
      ],
      "metadata": {
        "id": "A3ubT1V1NZ6G"
      }
    },
    {
      "cell_type": "markdown",
      "source": [
        "# The SequenceOptimizer Class"
      ],
      "metadata": {
        "id": "BLyLudXcRcxu"
      }
    },
    {
      "cell_type": "markdown",
      "source": [
        "\n",
        "The `SequenceOptimizer` class provides the interface between the functions that perform the optimization and the property/properties you wish to optimize for this sequence. For more information on these functions, take a look at the documentation (coming soon). For now, we'll focus on demonstrating the utility by example.\n",
        "\n",
        "\n",
        "```\n",
        "class SequenceOptimizer:\n",
        "    def __init__(self, target_length: int, kmer_dict_file: str = None, verbose=False):\n",
        "        self.target_length = target_length\n",
        "        self.kmer_dict_file = kmer_dict_file\n",
        "        self.verbose = verbose\n",
        "        self.kmer_dict = None\n",
        "        self.properties: List[ProteinProperty] = []\n",
        "        self.fixed_ranges: List[Tuple[int, int]] = []\n",
        "        self.max_iterations = 1000\n",
        "        self.tolerance = 0.001\n",
        "        self.window_size = 50\n",
        "        self.num_shuffles = 5000\n",
        "        self.shuffle_interval = 25\n",
        "        self.initial_sequence = None\n",
        "\n",
        "        # Set up logging\n",
        "        logging.basicConfig(level=logging.INFO, format='%(asctime)s - %(levelname)s - %(message)s')\n",
        "        self.logger = logging.getLogger(__name__)\n",
        "\n",
        "        # Load kmer_dict if file is provided\n",
        "        if self.kmer_dict_file:\n",
        "            self._load_kmer_dict()\n",
        "        else:\n",
        "            self.kmer_dict_file = get_data(\"kmer_properties.pickle\")\n",
        "            self._load_kmer_dict()\n",
        "\n",
        "    def _load_kmer_dict(self):\n",
        "        try:\n",
        "            with open(self.kmer_dict_file, \"rb\") as f:\n",
        "                kmer_properties = pickle.load(f)\n",
        "            self.kmer_dict = build_kmer_dict(kmer_properties)\n",
        "            self.logger.info(f\"Loaded kmer dictionary from {self.kmer_dict_file}\")\n",
        "        except OSError as e:\n",
        "            self.logger.error(f\"Error loading kmer dictionary: {e}\")\n",
        "            raise\n",
        "\n",
        "    @classmethod\n",
        "    def load_configuration(cls, config_file: str, kmer_dict_file: str = None):\n",
        "        with open(config_file, 'r') as f:\n",
        "            config = json.load(f)\n",
        "\n",
        "        optimizer = cls(config['target_length'], kmer_dict_file)\n",
        "        optimizer.set_fixed_ranges(config['fixed_ranges'])\n",
        "        optimizer.set_optimization_params(\n",
        "            max_iterations=config['max_iterations'],\n",
        "            tolerance=config['tolerance'],\n",
        "            window_size=config['window_size'],\n",
        "            num_shuffles=config['num_shuffles'],\n",
        "            shuffle_interval=config['shuffle_interval']\n",
        "        )\n",
        "        optimizer.set_initial_sequence(config['initial_sequence'])\n",
        "\n",
        "        # Load properties\n",
        "        for prop_name, target_value, weight in config['properties']:\n",
        "            # properties being optimized must be in global namespace\n",
        "            property_class = globals()[prop_name]\n",
        "            optimizer.add_property(property_class, target_value, weight)\n",
        "\n",
        "        optimizer.logger.info(f\"Configuration loaded from {config_file}\")\n",
        "        return optimizer\n",
        "\n",
        "    def add_property(self, property_class: type, *args: Any, **kwargs: Any):\n",
        "        self.properties.append(property_class(*args, **kwargs))\n",
        "\n",
        "    def set_fixed_ranges(self, ranges: List[Tuple[int, int]]):\n",
        "        self.fixed_ranges = ranges\n",
        "\n",
        "    def set_optimization_params(self, max_iterations: int = None, tolerance: float = None,\n",
        "                                window_size: int = None, num_shuffles: int = None,\n",
        "                                shuffle_interval: int = None):\n",
        "        if max_iterations is not None:\n",
        "            self.max_iterations = max_iterations\n",
        "        if tolerance is not None:\n",
        "            self.tolerance = tolerance\n",
        "        if window_size is not None:\n",
        "            self.window_size = window_size\n",
        "        if num_shuffles is not None:\n",
        "            self.num_shuffles = num_shuffles\n",
        "        if shuffle_interval is not None:\n",
        "            self.shuffle_interval = shuffle_interval\n",
        "\n",
        "    def set_initial_sequence(self, sequence: str):\n",
        "        self.initial_sequence = sequence\n",
        "\n",
        "    def run(self) -> str:\n",
        "        self.logger.info(\"Starting sequence optimization\")\n",
        "        optimized_sequence = optimize_sequence(\n",
        "            self.kmer_dict,\n",
        "            self.target_length,\n",
        "            self.properties,\n",
        "            max_iterations=self.max_iterations,\n",
        "            tolerance=self.tolerance,\n",
        "            verbose=self.verbose,\n",
        "            window_size=self.window_size,\n",
        "            num_shuffles=self.num_shuffles,\n",
        "            shuffle_interval=self.shuffle_interval,\n",
        "            fixed_residue_ranges=self.fixed_ranges,\n",
        "            initial_sequence=self.initial_sequence\n",
        "        )\n",
        "        self.logger.info(\"Sequence optimization completed\")\n",
        "        self.log_results(optimized_sequence)\n",
        "        return optimized_sequence\n",
        "\n",
        "    def log_results(self, sequence: str):\n",
        "        if self.initial_sequence is not None:\n",
        "            self.logger.info(\"Initial Sequence: \" + self.initial_sequence)\n",
        "        self.logger.info(f\"Optimized Sequence: {sequence}\")\n",
        "        protein = sparrow.Protein(sequence)\n",
        "        for prop in self.properties:\n",
        "            value = prop.calculate(protein)\n",
        "            self.logger.info(f\"{prop.__class__.__name__}: {value:.2f} (Target: {prop.target_value:.2f})\")\n",
        "\n",
        "    def save_configuration(self, filename: str):\n",
        "        config = {\n",
        "            \"target_length\": self.target_length,\n",
        "            \"properties\": [(prop.__class__.__name__, prop.target_value, prop.weight) for prop in self.properties],\n",
        "            \"fixed_ranges\": self.fixed_ranges,\n",
        "            \"max_iterations\": self.max_iterations,\n",
        "            \"tolerance\": self.tolerance,\n",
        "            \"window_size\": self.window_size,\n",
        "            \"num_shuffles\": self.num_shuffles,\n",
        "            \"shuffle_interval\": self.shuffle_interval,\n",
        "            \"initial_sequence\": self.initial_sequence\n",
        "        }\n",
        "        with open(filename, 'w') as f:\n",
        "            json.dump(config, f, indent=2)\n",
        "        self.logger.info(f\"Configuration saved to {filename}\")\n",
        "```\n",
        "\n"
      ],
      "metadata": {
        "id": "o3CKkZo0RjO3"
      }
    },
    {
      "cell_type": "markdown",
      "source": [
        "# Example 1: Optimizing the fraction of charged residues towards a target value."
      ],
      "metadata": {
        "id": "RiH79eLgRVq7"
      }
    },
    {
      "cell_type": "markdown",
      "source": [
        "First we will instantiate a SequenceOptimizer class. The target length of the optimized sequence is required at this stage."
      ],
      "metadata": {
        "id": "B8Pct-DxS-Xd"
      }
    },
    {
      "cell_type": "code",
      "source": [
        "optimizer = SequenceOptimizer(target_length=100,verbose=False)"
      ],
      "metadata": {
        "colab": {
          "base_uri": "https://localhost:8080/"
        },
        "id": "Cq3XyzrsSZ81",
        "outputId": "9c46d500-3fc8-4571-9473-2533068fc061"
      },
      "execution_count": 2,
      "outputs": [
        {
          "output_type": "stream",
          "name": "stderr",
          "text": [
            "INFO:goose.sequence_optimization:Loaded kmer dictionary from /usr/local/lib/python3.10/dist-packages/goose/data/kmer_properties.pickle\n"
          ]
        }
      ]
    },
    {
      "cell_type": "markdown",
      "source": [
        "Next, we will write a `FCR` subclass of the `ProteinProperty` base class which will provide the interface for us to optimize.\n",
        "\n",
        "N.B. This class is actually already provided in goose.properties module. You can import it as:\n",
        "\n",
        "`from goose.properties import FCR`\n",
        "\n",
        "which we have already done above, so I will simply use that implementation - although it is copied below.\n",
        "\n",
        "```\n",
        "class FCR(ProteinProperty):\n",
        "    \"\"\"\n",
        "    Calculate the FCR property.\n",
        "    \"\"\"\n",
        "    def __init__(self, target_value: float, weight: float = 1.0):\n",
        "        super().__init__(target_value, weight)\n",
        "\n",
        "    def calculate(self, protein: 'sparrow.Protein') -> float:\n",
        "        return protein.FCR\n",
        "```\n",
        "\n"
      ],
      "metadata": {
        "id": "kAqx7hFlNZ84"
      }
    },
    {
      "cell_type": "markdown",
      "source": [
        "Next, we will add this property to the list of properties exposed to the `SequenceOptimizer`."
      ],
      "metadata": {
        "id": "6kOD99trT2Jd"
      }
    },
    {
      "cell_type": "code",
      "source": [
        "optimizer.add_property(FCR, target_value=0.25, weight=1)"
      ],
      "metadata": {
        "colab": {
          "base_uri": "https://localhost:8080/"
        },
        "id": "qS6wpMnrT0mg",
        "outputId": "93e6665d-5460-4134-dcec-1120a15745e7"
      },
      "execution_count": 3,
      "outputs": [
        {
          "output_type": "stream",
          "name": "stderr",
          "text": [
            "INFO:goose.sequence_optimization:Added new property FCR\n"
          ]
        }
      ]
    },
    {
      "cell_type": "markdown",
      "source": [
        "To see a list of the properties defined for this optimizer object you can run the following codeblock:"
      ],
      "metadata": {
        "id": "HP4idlDgbQs5"
      }
    },
    {
      "cell_type": "code",
      "source": [
        "optimizer.get_properties"
      ],
      "metadata": {
        "colab": {
          "base_uri": "https://localhost:8080/"
        },
        "id": "8XJAsuOOYYhF",
        "outputId": "0c2f11a1-7557-4b4f-9258-b51ff2f0b40b"
      },
      "execution_count": 4,
      "outputs": [
        {
          "output_type": "stream",
          "name": "stderr",
          "text": [
            "INFO:goose.sequence_optimization:Defined properties:\n",
            "INFO:goose.sequence_optimization:  - FCR: target = 0.25, weight = 1\n"
          ]
        }
      ]
    },
    {
      "cell_type": "markdown",
      "source": [
        "Finally, to run the optimization you can run the entrypoint via `optimizer.run()`"
      ],
      "metadata": {
        "id": "1d0NYgyhba3D"
      }
    },
    {
      "cell_type": "code",
      "source": [
        "sequence = optimizer.run()"
      ],
      "metadata": {
        "colab": {
          "base_uri": "https://localhost:8080/"
        },
        "id": "XeXr7GgXUf-f",
        "outputId": "f5ce2e5f-bfb2-4019-c810-5e7dcb3238d5"
      },
      "execution_count": 5,
      "outputs": [
        {
          "output_type": "stream",
          "name": "stderr",
          "text": [
            "INFO:goose.sequence_optimization:Starting sequence optimization\n",
            "  0%|          | 1/1000 [00:01<23:58,  1.44s/it]\n",
            "INFO:goose.sequence_optimization:Sequence optimization completed\n",
            "INFO:goose.sequence_optimization:Optimized Sequence: QHQQHIIDADADALRGHNHPSDPPILGNVKETETQCRRTSLGVESSPGLPSMDLNTLNHVRGLKQWTSVSTVEKVSSEGFKEEEGSGLYNEKYSMEPRIY\n",
            "INFO:goose.sequence_optimization:FCR: 0.25 (Target: 0.25)\n"
          ]
        }
      ]
    },
    {
      "cell_type": "markdown",
      "source": [
        "To save the parameters used for this optimization you can run the following codeblock:"
      ],
      "metadata": {
        "id": "GzP-MV9Rbjle"
      }
    },
    {
      "cell_type": "code",
      "source": [
        "optimizer.save_configuration(\"test.json\")"
      ],
      "metadata": {
        "colab": {
          "base_uri": "https://localhost:8080/"
        },
        "id": "ykus4OcoU6Os",
        "outputId": "0781a86d-7f9e-429d-99c2-9658802a0a96"
      },
      "execution_count": 6,
      "outputs": [
        {
          "output_type": "stream",
          "name": "stderr",
          "text": [
            "INFO:goose.sequence_optimization:Configuration saved to test.json\n"
          ]
        }
      ]
    },
    {
      "cell_type": "markdown",
      "source": [
        "The contents of this json store the parameters used for that optimization object:"
      ],
      "metadata": {
        "id": "Y7MLI2nGbucy"
      }
    },
    {
      "cell_type": "code",
      "source": [
        "cat test.json"
      ],
      "metadata": {
        "colab": {
          "base_uri": "https://localhost:8080/"
        },
        "id": "zQXymXtYWXR8",
        "outputId": "eed5ca0a-d2a2-4e94-9ed0-f75adaf738fb"
      },
      "execution_count": 7,
      "outputs": [
        {
          "output_type": "stream",
          "name": "stdout",
          "text": [
            "{\n",
            "  \"target_length\": 100,\n",
            "  \"properties\": [\n",
            "    [\n",
            "      \"FCR\",\n",
            "      0.25,\n",
            "      1\n",
            "    ]\n",
            "  ],\n",
            "  \"fixed_ranges\": [],\n",
            "  \"max_iterations\": 1000,\n",
            "  \"tolerance\": 0.001,\n",
            "  \"window_size\": 50,\n",
            "  \"num_shuffles\": 5000,\n",
            "  \"shuffle_interval\": 25,\n",
            "  \"initial_sequence\": null\n",
            "}"
          ]
        }
      ]
    },
    {
      "cell_type": "markdown",
      "source": [
        "and previously used configurations for optimizers can be reloaded with the following command:"
      ],
      "metadata": {
        "id": "YqVjfjYoNZ_s"
      }
    },
    {
      "cell_type": "code",
      "source": [
        "optimizer2 = SequenceOptimizer.load_configuration(\"test.json\")"
      ],
      "metadata": {
        "colab": {
          "base_uri": "https://localhost:8080/"
        },
        "id": "fImxKFQGb0TU",
        "outputId": "80355acb-f4f1-4518-f2a7-d98253097b75"
      },
      "execution_count": 9,
      "outputs": [
        {
          "output_type": "stream",
          "name": "stderr",
          "text": [
            "INFO:goose.sequence_optimization:Loaded kmer dictionary from /usr/local/lib/python3.10/dist-packages/goose/data/kmer_properties.pickle\n",
            "INFO:goose.sequence_optimization:Added new property FCR\n",
            "INFO:goose.sequence_optimization:Configuration loaded from test.json\n"
          ]
        }
      ]
    },
    {
      "cell_type": "code",
      "source": [],
      "metadata": {
        "id": "0p2QbEQPdirY"
      },
      "execution_count": null,
      "outputs": []
    },
    {
      "cell_type": "markdown",
      "source": [
        "# Example 2: Joint optimization of multiple objectives."
      ],
      "metadata": {
        "id": "ElE2bsR8NaCW"
      }
    },
    {
      "cell_type": "markdown",
      "source": [
        "**NOTES:**\n",
        "\n",
        "1.    Not all possible combinations of objectives are possible, our optimization protocol for arbitrary objectives are greedy - that is, they will try to get as close as possible by minimizing the joint error between the objects [optionally weighted by the weighting factors].\n",
        "2.   The more computationally expensive and/or orthogonal objectives that are being optimized the more difficult it will be to arrive at a solution within the given tolerance and number of iterations [assuming a solution even exists, see point 1].\n",
        "\n"
      ],
      "metadata": {
        "id": "R9U094MTfkaq"
      }
    },
    {
      "cell_type": "code",
      "source": [
        "optimizer = SequenceOptimizer(target_length=100,verbose=True)\n",
        "optimizer.set_optimization_params(tolerance=0.1)\n",
        "optimizer.add_property(FCR,0.2,0.5)\n",
        "optimizer.add_property(Kappa,0.3,0.3)\n",
        "optimizer.add_property(RadiusOfGyration,40,0.2)\n",
        "optimizer.get_properties\n",
        "optimizer.run()"
      ],
      "metadata": {
        "colab": {
          "base_uri": "https://localhost:8080/",
          "height": 732
        },
        "id": "D6qncWxbd7xY",
        "outputId": "e4ac89fe-29ba-409c-8dd7-efeaa8ad840e"
      },
      "execution_count": 14,
      "outputs": [
        {
          "output_type": "stream",
          "name": "stderr",
          "text": [
            "INFO:goose.sequence_optimization:Loaded kmer dictionary from /usr/local/lib/python3.10/dist-packages/goose/data/kmer_properties.pickle\n",
            "INFO:goose.sequence_optimization:Added new property FCR\n",
            "INFO:goose.sequence_optimization:Added new property Kappa\n",
            "INFO:goose.sequence_optimization:Added new property RadiusOfGyration\n",
            "INFO:goose.sequence_optimization:Defined properties:\n",
            "INFO:goose.sequence_optimization:  - FCR: target = 0.2, weight = 0.5\n",
            "INFO:goose.sequence_optimization:  - Kappa: target = 0.3, weight = 0.3\n",
            "INFO:goose.sequence_optimization:  - RadiusOfGyration: target = 40, weight = 0.2\n",
            "INFO:goose.sequence_optimization:Starting sequence optimization\n",
            "  0%|          | 2/1000 [00:24<2:49:44, 10.20s/it]"
          ]
        },
        {
          "output_type": "stream",
          "name": "stdout",
          "text": [
            "Iteration 0: Best Error = 2.2457515846192835\n",
            "Iteration 0: Best Sequence = FTSQKYNESERGFHGTLSFPTLNQAQSASLSSPANPDEFTSNGQQSIGDRMNKQPGFPPFDHPLLNQSQKSTPGYNHCHDVSDTQRADGGCQRLHCSFRT\n",
            "Iteration 0: Target FCR= 0.200\n",
            "Iteration 0: current FCR= 0.170\n",
            "Iteration 0: Target Kappa= 0.300\n",
            "Iteration 0: current Kappa= 0.177\n",
            "Iteration 0: Target RadiusOfGyration= 40.000\n",
            "Iteration 0: current RadiusOfGyration= 29.031\n"
          ]
        },
        {
          "output_type": "stream",
          "name": "stderr",
          "text": [
            " 10%|█         | 101/1000 [00:43<03:36,  4.15it/s]"
          ]
        },
        {
          "output_type": "stream",
          "name": "stdout",
          "text": [
            "Iteration 100: Best Error = 0.9904808098077774\n",
            "Iteration 100: Best Sequence = DKPAKAHSTTLDSSDTLSKPTLMQATAPIRSSPLNPISPPMSMNPPYLSKVKKSPRKPPIMHPLLSPTCKSTPGSIHPDDSTSKGGPSSTGILRHCEKRT\n",
            "Iteration 100: Target FCR= 0.200\n",
            "Iteration 100: current FCR= 0.210\n",
            "Iteration 100: Target Kappa= 0.300\n",
            "Iteration 100: current Kappa= 0.234\n",
            "Iteration 100: Target RadiusOfGyration= 40.000\n",
            "Iteration 100: current RadiusOfGyration= 34.890\n"
          ]
        },
        {
          "output_type": "stream",
          "name": "stderr",
          "text": [
            " 20%|██        | 202/1000 [01:02<02:03,  6.44it/s]"
          ]
        },
        {
          "output_type": "stream",
          "name": "stdout",
          "text": [
            "Iteration 200: Best Error = 0.4848326943814754\n",
            "Iteration 200: Best Sequence = DKPAKPHNKSLDPHTVLIKPTQPPNNVPIRPKAKKPIRPPMIPNPMIILKVKKSPRKPPIPHPLLRPPLLTQPGSIHPPENAAKGGLLPAVLPQHCEKRT\n",
            "Iteration 200: Target FCR= 0.200\n",
            "Iteration 200: current FCR= 0.220\n",
            "Iteration 200: Target Kappa= 0.300\n",
            "Iteration 200: current Kappa= 0.252\n",
            "Iteration 200: Target RadiusOfGyration= 40.000\n",
            "Iteration 200: current RadiusOfGyration= 36.509\n"
          ]
        },
        {
          "output_type": "stream",
          "name": "stderr",
          "text": [
            " 28%|██▊       | 281/1000 [01:16<03:16,  3.65it/s]\n",
            "INFO:goose.sequence_optimization:Sequence optimization completed\n",
            "INFO:goose.sequence_optimization:Optimized Sequence: DKPAKPHPGLVAPIKVLIKPKQPPNNVPIRPKAKKPIRPPMIPLPMPPFPPKKRPRKPPITRPLLRPPMTPTPGSIHPPENAAKMLLLPAVPSPGTEKRT\n",
            "INFO:goose.sequence_optimization:FCR: 0.23 (Target: 0.20)\n",
            "INFO:goose.sequence_optimization:Kappa: 0.27 (Target: 0.30)\n",
            "INFO:goose.sequence_optimization:RadiusOfGyration: 39.65 (Target: 40.00)\n"
          ]
        },
        {
          "output_type": "execute_result",
          "data": {
            "text/plain": [
              "'DKPAKPHPGLVAPIKVLIKPKQPPNNVPIRPKAKKPIRPPMIPLPMPPFPPKKRPRKPPITRPLLRPPMTPTPGSIHPPENAAKMLLLPAVPSPGTEKRT'"
            ],
            "application/vnd.google.colaboratory.intrinsic+json": {
              "type": "string"
            }
          },
          "metadata": {},
          "execution_count": 14
        }
      ]
    },
    {
      "cell_type": "markdown",
      "source": [],
      "metadata": {
        "id": "P20z-q9UNaFe"
      }
    },
    {
      "cell_type": "markdown",
      "source": [],
      "metadata": {
        "id": "MOJD0P8XNaJL"
      }
    }
  ]
}